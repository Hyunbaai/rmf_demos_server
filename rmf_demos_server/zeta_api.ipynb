{
 "cells": [
  {
   "cell_type": "markdown",
   "id": "aa52e301340d4f0d",
   "metadata": {},
   "source": [
    "# Zeta API\n",
    "* 목적지 호출"
   ]
  },
  {
   "cell_type": "code",
   "execution_count": 7,
   "id": "ffa6236c5e3efdf4",
   "metadata": {},
   "outputs": [
    {
     "name": "stdout",
     "output_type": "stream",
     "text": [
      "Status Code: 200\n",
      "Response JSON: {'ok': True, 'destinationId': 270}\n"
     ]
    }
   ],
   "source": [
    "# 목적지 호출\n",
    "\n",
    "import requests\n",
    "\n",
    "url = \"https://provider102.bukoi.org/api/destination\"\n",
    "headers = {\n",
    "    \"X-Signature\": \"756edb38ca5a47a05085f87f5dcbc8b05b9953ec5466c0afdd956e7ca80975a5\",\n",
    "    \"Content-Type\": \"application/json\"\n",
    "}\n",
    "\n",
    "data = {\n",
    "    \"fleet_name\": \"gl_robot\",\n",
    "    \"robot_name\": \"orange\",\n",
    "    \"destination_name\": \"d1\"\n",
    "}\n",
    "response = requests.post(url, headers=headers, json=data)\n",
    "\n",
    "print(\"Status Code:\", response.status_code)\n",
    "print(\"Response JSON:\", response.json())\n",
    "\n",
    "# Status Code: 200\n",
    "# Response JSON: {'ok': True, 'destinationId': 142}"
   ]
  },
  {
   "cell_type": "code",
   "execution_count": null,
   "id": "6e14e4e4",
   "metadata": {},
   "outputs": [],
   "source": [
    "# 목적지 호출\n",
    "\n",
    "import requests\n",
    "\n",
    "url = \"https://provider102.bukoi.org/api/destination\"\n",
    "headers = {\n",
    "    \"X-Signature\": \"756edb38ca5a47a05085f87f5dcbc8b05b9953ec5466c0afdd956e7ca80975a5\",\n",
    "    \"Content-Type\": \"application/json\"\n",
    "}\n",
    "\n",
    "data = {\n",
    "    \"fleet_name\": \"gl_robot\",\n",
    "    \"robot_name\": \"yellow\",\n",
    "    \"destination_name\": \"d1\"\n",
    "}\n",
    "response = requests.post(url, headers=headers, json=data)\n",
    "\n",
    "print(\"Status Code:\", response.status_code)\n",
    "print(\"Response JSON:\", response.json())\n",
    "\n",
    "# Status Code: 200\n",
    "# Response JSON: {'ok': True, 'destinationId': 142}"
   ]
  },
  {
   "cell_type": "markdown",
   "id": "72f1964b91a244ca",
   "metadata": {},
   "source": [
    "* Fleet 서버 상태 조회"
   ]
  },
  {
   "cell_type": "code",
   "execution_count": null,
   "id": "49a1a7b08016068a",
   "metadata": {},
   "outputs": [],
   "source": [
    "# fleet 서버 상태 조회\n",
    "\n",
    "import requests\n",
    "url = \"https://provider102.bukoi.org/api/adapter?fleetName=gl_robot\"\n",
    "response = requests.get(url)\n",
    "\n",
    "print(\"Status Code:\", response.status_code)\n",
    "print(\"Response JSON:\", response.json())\n",
    "\n",
    "# Status Code: 200\n",
    "# Response JSON: {'success': True, 'data': [{'adapter_id': 6, 'responses': '[{\"task_id\":\"e07a69ed-7804-4d51-bdca-6a59ec471446\",\"status\":\"completed\",\"start_time\":\"2025-04-25 15:06:56\",\"finish_time\":\"2025-04-25 15:11:32\",\"elapsed_time\":\"276.78초\",\"fleet_name\":\"handong_fleet\",\"robot_name\":\"green\",\"place\":\"s3\"},{\"task_id\":\"patrol_fde271ca-f05b-4747-a85f-42bba5a6f52f\",\"status\":\"underway\",\"start_time\":\"2025-04-25 16:03:56\",\"finish_time\":\"2025-04-25 16:06:07\",\"elapsed_time\":\"130.69초\",\"fleet_name\":\"handong_fleet\",\"robot_name\":\"blue\",\"original_estimate\":\"56.90초\",\"current_estimate\":\"35.59초\",\"place\":\"d1-1\"}]'}]}"
   ]
  },
  {
   "cell_type": "markdown",
   "id": "6d2a3a45594977c8",
   "metadata": {},
   "source": [
    "* 로봇 상태 조회"
   ]
  },
  {
   "cell_type": "code",
   "execution_count": null,
   "id": "4c55026aaee89b85",
   "metadata": {},
   "outputs": [],
   "source": [
    "# 로봇 상태 조회\n",
    "\n",
    "import requests\n",
    "url = \"https://provider102.bukoi.org/api/rmf?robotName=gl_robot/orange\"\n",
    "\n",
    "response = requests.get(url)\n",
    "\n",
    "print(\"Status Code:\", response.status_code)\n",
    "print(\"Response JSON:\", response.json())\n",
    "\n",
    "# Status Code: 200\n",
    "# Response JSON: {'success': True, 'data': [{'rmf_id': 2626, 'robot_name': 'handong_fleet/blue', 'map_name': 'L1', 'battery': 88, 'created_at': '2025-04-14T06:23:40.482662', 'updated_at': '2025-04-14T06:23:40.482662', 'timestamp': '2025-04-14T06:23:40.044788'}]}"
   ]
  },
  {
   "cell_type": "markdown",
   "id": "b4ff3ed963fcb32d",
   "metadata": {},
   "source": [
    "* 로봇 문열림 & 닫힘 결과 상태 조회"
   ]
  },
  {
   "cell_type": "code",
   "execution_count": null,
   "id": "86bf0db874056475",
   "metadata": {},
   "outputs": [],
   "source": [
    "# 로봇 문열림 & 닫힘 결과 상태 조회\n",
    "\n",
    "import requests\n",
    "\n",
    "# 실제 주소와 controllerId는 상황에 맞게 변경하세요\n",
    "url = \"https://provider102.bukoi.org/api/controller?controllerId=82\"\n",
    "\n",
    "response = requests.get(url)\n",
    "\n",
    "print(\"Status Code:\", response.status_code)\n",
    "print(\"Response JSON:\", response.json())\n",
    "\n",
    "# Status Code: 200\n",
    "# Response JSON: {'success': True, 'data': {'controller_id': 82, 'robot_name': 'yellow', 'fleet_name': 'gl_robot', 'type': 'door', 'command': 'close', 'state': 'success', 'created_at': '2025-04-11T03:27:49.007655', 'task_id': '5b30469d-11e3-49e4-91cf-1f9b40296d99'}}"
   ]
  },
  {
   "cell_type": "markdown",
   "id": "daf2d5c4bd53d0b7",
   "metadata": {},
   "source": [
    "* 로봇 문연림 & 닫힘 제어 명령 전송"
   ]
  },
  {
   "cell_type": "code",
   "execution_count": null,
   "id": "4a7838595fac60dc",
   "metadata": {},
   "outputs": [],
   "source": [
    "# 로봇 문연림 & 닫힘 제어 명령 전송\n",
    "\n",
    "import requests\n",
    "import uuid\n",
    "\n",
    "url = \"https://provider102.bukoi.org/api/controller\"\n",
    "headers = {\n",
    "    \"X-Signature\": \"756edb38ca5a47a05085f87f5dcbc8b05b9953ec5466c0afdd956e7ca80975a5\",\n",
    "    \"Content-Type\": \"application/json\"\n",
    "}\n",
    "\n",
    "data = {\n",
    "    \"fleet_name\": \"handong_fleet\",\n",
    "    \"robot_name\": \"blue\",\n",
    "    \"type\": \"door\",\n",
    "    \"command\": \"close\",\n",
    "    \"task_id\": str(uuid.uuid4())  # 새 UUID 생성\n",
    "}\n",
    "response = requests.post(url, headers=headers, json=data)\n",
    "\n",
    "print(\"task_id: \", data[\"task_id\"])\n",
    "print(\"Status Code:\", response.status_code)\n",
    "print(\"Response JSON:\", response.json())\n",
    "\n",
    "# task_id:  40506e4a-7ce6-4c8e-b37b-477602e65a4d\n",
    "# Status Code: 200\n",
    "# Response JSON: {'ok': True, 'controllerId': 157}"
   ]
  }
 ],
 "metadata": {
  "kernelspec": {
   "display_name": "Python 3",
   "language": "python",
   "name": "python3"
  },
  "language_info": {
   "codemirror_mode": {
    "name": "ipython",
    "version": 3
   },
   "file_extension": ".py",
   "mimetype": "text/x-python",
   "name": "python",
   "nbconvert_exporter": "python",
   "pygments_lexer": "ipython3",
   "version": "3.10.12"
  }
 },
 "nbformat": 4,
 "nbformat_minor": 5
}
